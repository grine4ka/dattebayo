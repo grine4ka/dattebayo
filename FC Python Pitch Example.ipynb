{
 "cells": [
  {
   "cell_type": "markdown",
   "id": "273df2ba",
   "metadata": {},
   "source": [
    "# FC Python Drawing Pitch\n",
    "Code from FC Python [Visualisation](https://fcpython.com/visualisation/drawing-pitchmap-adding-lines-circles-matplotlib)"
   ]
  },
  {
   "cell_type": "code",
   "execution_count": 1,
   "id": "66402dd9",
   "metadata": {},
   "outputs": [],
   "source": [
    "import matplotlib.pyplot as plt\n",
    "from matplotlib.patches import Arc"
   ]
  },
  {
   "cell_type": "markdown",
   "id": "b46daad7",
   "metadata": {},
   "source": [
    "### Drawing pitch"
   ]
  },
  {
   "cell_type": "code",
   "execution_count": 3,
   "id": "21e4fedf",
   "metadata": {},
   "outputs": [
    {
     "data": {
      "image/png": "[encoded data removed]",
      "text/plain": [
       "<Figure size 432x288 with 1 Axes>"
      ]
     },
     "metadata": {
      "needs_background": "light"
     },
     "output_type": "display_data"
    }
   ],
   "source": [
    "fig=plt.figure()\n",
    "ax=fig.add_subplot(1,1,1)\n",
    "\n",
    "plt.plot([0,0],[0,90], color=\"blue\")\n",
    "plt.plot([0,130],[90,90], color=\"orange\")\n",
    "plt.plot([130,130],[90,0], color=\"green\")\n",
    "plt.plot([130,0],[0,0], color=\"red\")\n",
    "plt.plot([65,65],[0,90], color=\"pink\")\n",
    "\n",
    "plt.show()"
   ]
  },
  {
   "cell_type": "markdown",
   "id": "b5c6f320",
   "metadata": {},
   "source": [
    "### Drawing center spot and center circle"
   ]
  },
  {
   "cell_type": "code",
   "execution_count": 4,
   "id": "44078a6d",
   "metadata": {
    "scrolled": true
   },
   "outputs": [
    {
     "data": {
      "image/png": "[encoded data removed]",
      "text/plain": [
       "<Figure size 432x288 with 1 Axes>"
      ]
     },
     "metadata": {
      "needs_background": "light"
     },
     "output_type": "display_data"
    }
   ],
   "source": [
    "#Create figure\n",
    "fig=plt.figure()\n",
    "ax=fig.add_subplot(1,1,1)\n",
    "\n",
    "#Pitch Outline & Centre Line\n",
    "plt.plot([0,0],[0,90], color=\"black\")\n",
    "plt.plot([0,130],[90,90], color=\"black\")\n",
    "plt.plot([130,130],[90,0], color=\"black\")\n",
    "plt.plot([130,0],[0,0], color=\"black\")\n",
    "plt.plot([65,65],[0,90], color=\"black\")\n",
    "\n",
    "#Assign circles to variables - do not fill the centre circle!\n",
    "centreCircle = plt.Circle((65,45),9.15,color=\"red\",fill=False)\n",
    "centreSpot = plt.Circle((65,45),0.8,color=\"blue\")\n",
    "\n",
    "#Draw the circles to our plot\n",
    "ax.add_patch(centreCircle)\n",
    "ax.add_patch(centreSpot)\n",
    "\n",
    "plt.show()"
   ]
  },
  {
   "cell_type": "markdown",
   "id": "e664ae81",
   "metadata": {},
   "source": [
    "### Drawing penalty box with arc"
   ]
  },
  {
   "cell_type": "code",
   "execution_count": 5,
   "id": "564a16c1",
   "metadata": {},
   "outputs": [
    {
     "data": {
      "image/png": "[encoded data removed]",
      "text/plain": [
       "<Figure size 432x288 with 1 Axes>"
      ]
     },
     "metadata": {
      "needs_background": "light"
     },
     "output_type": "display_data"
    }
   ],
   "source": [
    "#Create figure\n",
    "fig=plt.figure()\n",
    "ax=fig.add_subplot(1,1,1)\n",
    "\n",
    "#Pitch Outline & Centre Line\n",
    "plt.plot([0,0],[0,90], color=\"black\")\n",
    "plt.plot([0,130],[90,90], color=\"black\")\n",
    "plt.plot([130,130],[90,0], color=\"black\")\n",
    "plt.plot([130,0],[0,0], color=\"black\")\n",
    "plt.plot([65,65],[0,90], color=\"black\")\n",
    "\n",
    "#Left Penalty Area\n",
    "plt.plot([16.5,16.5],[65,25],color=\"black\")\n",
    "plt.plot([0,16.5],[65,65],color=\"black\")\n",
    "plt.plot([16.5,0],[25,25],color=\"black\")\n",
    "\n",
    "#Centre Circle/Spot\n",
    "centreCircle = plt.Circle((65,45),9.15,fill=False)\n",
    "centreSpot = plt.Circle((65,45),0.8)\n",
    "ax.add_patch(centreCircle)\n",
    "ax.add_patch(centreSpot)\n",
    "\n",
    "#Create Arc and add it to our plot\n",
    "leftArc = Arc((11,45),height=18.3,width=18.3,angle=0,theta1=310,theta2=50,color=\"red\")\n",
    "\n",
    "ax.add_patch(leftArc)\n",
    "\n",
    "plt.show()"
   ]
  },
  {
   "cell_type": "markdown",
   "id": "09f0c67b",
   "metadata": {},
   "source": [
    "### Bringing everything together"
   ]
  },
  {
   "cell_type": "code",
   "execution_count": 8,
   "id": "5a1d92cd",
   "metadata": {},
   "outputs": [
    {
     "data": {
      "image/png": "[encoded data removed]",
      "text/plain": [
       "<Figure size 432x288 with 1 Axes>"
      ]
     },
     "metadata": {
      "needs_background": "light"
     },
     "output_type": "display_data"
    }
   ],
   "source": [
    "def createPitch():\n",
    "    \n",
    "    #Create figure\n",
    "    fig=plt.figure()\n",
    "    ax=fig.add_subplot(1,1,1)\n",
    "\n",
    "    #Pitch Outline & Centre Line\n",
    "    plt.plot([0,0],[0,90], color=\"black\")\n",
    "    plt.plot([0,130],[90,90], color=\"black\")\n",
    "    plt.plot([130,130],[90,0], color=\"black\")\n",
    "    plt.plot([130,0],[0,0], color=\"black\")\n",
    "    plt.plot([65,65],[0,90], color=\"black\")\n",
    "    \n",
    "    #Left Penalty Area\n",
    "    plt.plot([16.5,16.5],[65,25],color=\"black\")\n",
    "    plt.plot([0,16.5],[65,65],color=\"black\")\n",
    "    plt.plot([16.5,0],[25,25],color=\"black\")\n",
    "    \n",
    "    #Right Penalty Area\n",
    "    plt.plot([130,113.5],[65,65],color=\"black\")\n",
    "    plt.plot([113.5,113.5],[65,25],color=\"black\")\n",
    "    plt.plot([113.5,130],[25,25],color=\"black\")\n",
    "    \n",
    "    #Left 6-yard Box\n",
    "    plt.plot([0,5.5],[54,54],color=\"black\")\n",
    "    plt.plot([5.5,5.5],[54,36],color=\"black\")\n",
    "    plt.plot([5.5,0.5],[36,36],color=\"black\")\n",
    "    \n",
    "    #Right 6-yard Box\n",
    "    plt.plot([130,124.5],[54,54],color=\"black\")\n",
    "    plt.plot([124.5,124.5],[54,36],color=\"black\")\n",
    "    plt.plot([124.5,130],[36,36],color=\"black\")\n",
    "    \n",
    "    #Prepare Circles\n",
    "    centreCircle = plt.Circle((65,45),9.15,color=\"black\",fill=False,linewidth=1.5)\n",
    "    centreSpot = plt.Circle((65,45),0.8,color=\"black\")\n",
    "    leftPenSpot = plt.Circle((11,45),0.8,color=\"black\")\n",
    "    rightPenSpot = plt.Circle((119,45),0.8,color=\"black\")\n",
    "    \n",
    "    #Draw Circles\n",
    "    ax.add_patch(centreCircle)\n",
    "    ax.add_patch(centreSpot)\n",
    "    ax.add_patch(leftPenSpot)\n",
    "    ax.add_patch(rightPenSpot)\n",
    "    \n",
    "    #Prepare Arcs\n",
    "    leftArc = Arc((11,45),height=18.3,width=18.3,angle=0,theta1=310,theta2=50,color=\"black\",linewidth=1.5)\n",
    "    rightArc = Arc((119,45),height=18.3,width=18.3,angle=0,theta1=130,theta2=230,color=\"black\",linewidth=1.5)\n",
    "\n",
    "    #Draw Arcs\n",
    "    ax.add_patch(leftArc)\n",
    "    ax.add_patch(rightArc)\n",
    "    \n",
    "    #Tidy Axes\n",
    "    plt.axis('off')\n",
    "    \n",
    "    #Display Pitch\n",
    "    plt.show()\n",
    "    \n",
    "createPitch()"
   ]
  }
 ],
 "metadata": {
  "kernelspec": {
   "display_name": "Python 3 (ipykernel)",
   "language": "python",
   "name": "python3"
  },
  "language_info": {
   "codemirror_mode": {
    "name": "ipython",
    "version": 3
   },
   "file_extension": ".py",
   "mimetype": "text/x-python",
   "name": "python",
   "nbconvert_exporter": "python",
   "pygments_lexer": "ipython3",
   "version": "3.8.10"
  }
 },
 "nbformat": 4,
 "nbformat_minor": 5
}
