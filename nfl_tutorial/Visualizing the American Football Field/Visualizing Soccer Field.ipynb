{
 "cells": [
  {
   "cell_type": "markdown",
   "metadata": {},
   "source": [
    "# Visualizing Soccer Field"
   ]
  },
  {
   "cell_type": "markdown",
   "metadata": {},
   "source": [
    "<img src = 'images/soccer-field-size-image.jpg' width=\"600\">"
   ]
  },
  {
   "cell_type": "markdown",
   "metadata": {},
   "source": [
    "### Imports"
   ]
  },
  {
   "cell_type": "code",
   "execution_count": 2,
   "metadata": {},
   "outputs": [],
   "source": [
    "import matplotlib.pyplot as plt\n",
    "import matplotlib.patches as patches\n",
    "\n",
    "%matplotlib inline"
   ]
  },
  {
   "cell_type": "markdown",
   "metadata": {},
   "source": [
    "First of all, let us create a green patch for the football field by using the `Rectangle()` method."
   ]
  },
  {
   "cell_type": "code",
   "execution_count": 3,
   "metadata": {},
   "outputs": [
    {
     "data": {
      "image/png": "[encoded data removed]",
      "text/plain": [
       "<Figure size 864x576 with 1 Axes>"
      ]
     },
     "metadata": {
      "needs_background": "light"
     },
     "output_type": "display_data"
    }
   ],
   "source": [
    "# Создаем прямоугольник. Размеры поля 120 на 75. Берем с запасом по 5 с каждой стороны\n",
    "rect = patches.Rectangle((0, 0), 130, 85, facecolor='#4c9a00', zorder=0)\n",
    "\n",
    "# Creating a subplot to plot our field on\n",
    "fig, ax = plt.subplots(1, figsize=(12, 8))\n",
    "\n",
    "# Adding the rectangle to the plot\n",
    "ax.add_patch(rect)\n",
    "\n",
    "# Рисуем границы поля и центральную линию\n",
    "plt.plot([5, 5, 125, 125, 5],\n",
    "         [5, 80, 80, 5, 5],\n",
    "         color='white', zorder=0)\n",
    "\n",
    "plt.plot([65, 65],\n",
    "         [5, 80],\n",
    "         color='white', zorder=0)\n",
    "\n",
    "# Рисуем центральную точку и центральный круг\n",
    "# 42.5 - центр по вертикали (y), 65 - центр по горизонтали (x)\n",
    "central_point = patches.Circle((65, 42.5), radius=0.5, color='white')\n",
    "central_circle = patches.Circle((65, 42.5), radius=10, color='white', fill=False, linewidth=1.5)\n",
    "\n",
    "ax.add_patch(central_point)\n",
    "ax.add_patch(central_circle)\n",
    "\n",
    "# Рисуем штрафные\n",
    "# Сделаем штрафную не 44 ярда в высоту, а 40\n",
    "# Рисуем левую штрафную от левого нижнего угла и против часовой стрелки\n",
    "plt.plot([5, 23, 23, 5],\n",
    "         [22.5, 22.5, 62.5, 62.5],\n",
    "         color='white', zorder=0)\n",
    "\n",
    "# Рисуем правую штрафную от правого нижнего угла и по часовой стрелке\n",
    "plt.plot([125, 107, 107, 125],\n",
    "         [22.5, 22.5, 62.5, 62.5],\n",
    "         color='white', zorder=0)\n",
    "\n",
    "# Рисуем вратарские\n",
    "# Вратарские тоже другого размера: 7 на 15\n",
    "# Левая\n",
    "plt.plot([5, 12, 12, 5],\n",
    "         [35, 35, 50, 50],\n",
    "         color='white', zorder=0)\n",
    "# Правая\n",
    "plt.plot([125, 118, 118, 125],\n",
    "         [35, 35, 50, 50],\n",
    "         color='white', zorder=0)\n",
    "\n",
    "# Пенальти\n",
    "left_penalty = patches.Circle((17, 42.5), radius=0.5, color='white')\n",
    "right_penalty = patches.Circle((113, 42.5), radius=0.5, color='white')\n",
    "\n",
    "ax.add_patch(left_penalty)\n",
    "ax.add_patch(right_penalty)\n",
    "\n",
    "# Радиусы штрафных\n",
    "left_penalty_arc = patches.Arc((17, 42.5), width=24, height=24, angle=0, theta1=-60, theta2=60, color='white', linewidth=1.5)\n",
    "right_penalty_arc = patches.Arc((113, 42.5), width=24, height=24, angle=0, theta1=120, theta2=240, color='white', linewidth=1.5)\n",
    "\n",
    "ax.add_patch(left_penalty_arc)\n",
    "ax.add_patch(right_penalty_arc)\n",
    "\n",
    "# Угловые\n",
    "left_bottom_corner = patches.Arc((5, 5), width=5, height=5, angle=0, theta1=0, theta2=90, color='white', linewidth=1.5)\n",
    "left_top_corner = patches.Arc((5, 80), width=5, height=5, angle=0, theta1=-90, theta2=0, color='white', linewidth=1.5)\n",
    "right_top_corner = patches.Arc((125, 80), width=5, height=5, angle=0, theta1=180, theta2=270, color='white', linewidth=1.5)\n",
    "right_bottom_corner = patches.Arc((125, 5), width=5, height=5, angle=0, theta1=90, theta2=180, color='white', linewidth=1.5)\n",
    "\n",
    "ax.add_patch(left_bottom_corner)\n",
    "ax.add_patch(left_top_corner)\n",
    "ax.add_patch(right_top_corner)\n",
    "ax.add_patch(right_bottom_corner)\n",
    "\n",
    "# Рисуем полосы на поле\n",
    "for x in range(5, 125, 16):\n",
    "    colored_lawn = patches.Rectangle((x, 0), 8, 85, facecolor='blue', alpha=0.1, zorder=0)\n",
    "    ax.add_patch(colored_lawn)\n",
    "    \n",
    "for x in range(1, 80, 15):\n",
    "    colored_lawn = patches.Rectangle((0, x), 130, 7.5, facecolor='blue', alpha=0.1, zorder=0)\n",
    "    ax.add_patch(colored_lawn)"
   ]
  },
  {
   "cell_type": "markdown",
   "metadata": {},
   "source": [
    "Wrapping the entire code in a function for easy plotting."
   ]
  },
  {
   "cell_type": "code",
   "execution_count": 4,
   "metadata": {},
   "outputs": [],
   "source": [
    "def create_football_field(pitch_color, line_color, draw_lines=False):\n",
    "    \n",
    "    # Создаем прямоугольник. Размеры поля 120 на 75. Берем с запасом по 5 с каждой стороны\n",
    "    rect = patches.Rectangle((0, 0), 130, 85, facecolor=pitch_color, zorder=0)\n",
    "\n",
    "    # Creating a subplot to plot our field on\n",
    "    fig, ax = plt.subplots(1, figsize=(12, 8))\n",
    "\n",
    "    # Adding the rectangle to the plot\n",
    "    ax.add_patch(rect)\n",
    "\n",
    "    # Рисуем границы поля и центральную линию\n",
    "    plt.plot([5, 5, 125, 125, 5],\n",
    "             [5, 80, 80, 5, 5],\n",
    "             color=line_color, zorder=0)\n",
    "\n",
    "    plt.plot([65, 65],\n",
    "             [5, 80],\n",
    "             color=line_color, zorder=0)\n",
    "\n",
    "    # Рисуем центральную точку и центральный круг\n",
    "    # 42.5 - центр по вертикали (y), 65 - центр по горизонтали (x)\n",
    "    central_point = patches.Circle((65, 42.5), radius=0.5, color=line_color)\n",
    "    central_circle = patches.Circle((65, 42.5), radius=10, color=line_color, fill=False, linewidth=1.5)\n",
    "\n",
    "    ax.add_patch(central_point)\n",
    "    ax.add_patch(central_circle)\n",
    "\n",
    "    # Рисуем штрафные\n",
    "    # Сделаем штрафную не 44 ярда в высоту, а 40\n",
    "    # Рисуем левую штрафную от левого нижнего угла и против часовой стрелки\n",
    "    plt.plot([5, 23, 23, 5],\n",
    "             [22.5, 22.5, 62.5, 62.5],\n",
    "             color=line_color, zorder=0)\n",
    "\n",
    "    # Рисуем правую штрафную от правого нижнего угла и по часовой стрелке\n",
    "    plt.plot([125, 107, 107, 125],\n",
    "             [22.5, 22.5, 62.5, 62.5],\n",
    "             color=line_color, zorder=0)\n",
    "\n",
    "    # Рисуем вратарские\n",
    "    # Вратарские тоже другого размера: 7 на 15\n",
    "    # Левая\n",
    "    plt.plot([5, 12, 12, 5],\n",
    "             [35, 35, 50, 50],\n",
    "             color=line_color, zorder=0)\n",
    "    # Правая\n",
    "    plt.plot([125, 118, 118, 125],\n",
    "             [35, 35, 50, 50],\n",
    "             color=line_color, zorder=0)\n",
    "\n",
    "    # Пенальти\n",
    "    left_penalty = patches.Circle((17, 42.5), radius=0.5, color=line_color)\n",
    "    right_penalty = patches.Circle((113, 42.5), radius=0.5, color=line_color)\n",
    "\n",
    "    ax.add_patch(left_penalty)\n",
    "    ax.add_patch(right_penalty)\n",
    "\n",
    "    # Радиусы штрафных\n",
    "    left_penalty_arc = patches.Arc((17, 42.5), width=24, height=24, angle=0, theta1=-60, theta2=60, color=line_color, linewidth=1.5)\n",
    "    right_penalty_arc = patches.Arc((113, 42.5), width=24, height=24, angle=0, theta1=120, theta2=240, color=line_color, linewidth=1.5)\n",
    "\n",
    "    ax.add_patch(left_penalty_arc)\n",
    "    ax.add_patch(right_penalty_arc)\n",
    "\n",
    "    # Угловые\n",
    "    left_bottom_corner = patches.Arc((5, 5), width=5, height=5, angle=0, theta1=0, theta2=90, color=line_color, linewidth=1.5)\n",
    "    left_top_corner = patches.Arc((5, 80), width=5, height=5, angle=0, theta1=-90, theta2=0, color=line_color, linewidth=1.5)\n",
    "    right_top_corner = patches.Arc((125, 80), width=5, height=5, angle=0, theta1=180, theta2=270, color=line_color, linewidth=1.5)\n",
    "    right_bottom_corner = patches.Arc((125, 5), width=5, height=5, angle=0, theta1=90, theta2=180, color=line_color, linewidth=1.5)\n",
    "\n",
    "    ax.add_patch(left_bottom_corner)\n",
    "    ax.add_patch(left_top_corner)\n",
    "    ax.add_patch(right_top_corner)\n",
    "    ax.add_patch(right_bottom_corner)\n",
    "\n",
    "    # Рисуем полосы на поле\n",
    "    if draw_lines:\n",
    "        for x in range(5, 125, 16):\n",
    "            colored_lawn = patches.Rectangle((x, 0), 8, 85, facecolor='blue', alpha=0.1, zorder=0)\n",
    "            ax.add_patch(colored_lawn)\n",
    "\n",
    "        for x in range(1, 80, 15):\n",
    "            colored_lawn = patches.Rectangle((0, x), 130, 7.5, facecolor='blue', alpha=0.1, zorder=0)\n",
    "            ax.add_patch(colored_lawn)\n",
    "        \n",
    "    plt.axis('off')\n",
    "    # Returning the figure and axis\n",
    "    return fig, ax"
   ]
  },
  {
   "cell_type": "code",
   "execution_count": 9,
   "metadata": {
    "scrolled": false
   },
   "outputs": [
    {
     "data": {
      "image/png": "[encoded data removed]",
      "text/plain": [
       "<Figure size 864x576 with 1 Axes>"
      ]
     },
     "metadata": {
      "needs_background": "light"
     },
     "output_type": "display_data"
    }
   ],
   "source": [
    "# Calling the plotting function\n",
    "fig, ax = create_football_field('green', 'white')\n",
    "\n",
    "# Plotting the figure\n",
    "plt.show()"
   ]
  },
  {
   "cell_type": "code",
   "execution_count": null,
   "metadata": {},
   "outputs": [],
   "source": []
  }
 ],
 "metadata": {
  "kernelspec": {
   "display_name": "Python 3",
   "language": "python",
   "name": "python3"
  },
  "language_info": {
   "codemirror_mode": {
    "name": "ipython",
    "version": 3
   },
   "file_extension": ".py",
   "mimetype": "text/x-python",
   "name": "python",
   "nbconvert_exporter": "python",
   "pygments_lexer": "ipython3",
   "version": "3.8.5"
  }
 },
 "nbformat": 4,
 "nbformat_minor": 4
}
